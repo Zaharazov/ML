{
 "cells": [
  {
   "cell_type": "markdown",
   "id": "ec6e7d18-6a6e-4a51-a7cd-0a1152604973",
   "metadata": {},
   "source": [
    "## Лабораторная работа №1 | Вариант 2"
   ]
  },
  {
   "cell_type": "markdown",
   "id": "277877ce-f982-4711-a6a6-2a4a90871409",
   "metadata": {},
   "source": [
    "Выполнил: Епифанов Евгений Валерьевич М8О-312Б-22"
   ]
  },
  {
   "cell_type": "markdown",
   "id": "031f025d-84dc-470f-b839-456a76d9636b",
   "metadata": {},
   "source": [
    "### 1. Numpy"
   ]
  },
  {
   "cell_type": "code",
   "execution_count": 1707,
   "id": "8a2c6f8d-e85b-4982-ba6d-77ffdb7d53e8",
   "metadata": {},
   "outputs": [],
   "source": [
    "import numpy as np"
   ]
  },
  {
   "cell_type": "markdown",
   "id": "6ff3559d-5f3e-4540-9a31-bfb9f42a23da",
   "metadata": {},
   "source": [
    "1. Создайте матрицу размером 8х8 и заполните ее шахматным рисунком"
   ]
  },
  {
   "cell_type": "code",
   "execution_count": 1708,
   "id": "752bc586-1e3f-4085-85c3-4068b781314f",
   "metadata": {},
   "outputs": [
    {
     "name": "stdout",
     "output_type": "stream",
     "text": [
      "[[1 0 1 0 1 0 1 0]\n",
      " [0 1 0 1 0 1 0 1]\n",
      " [1 0 1 0 1 0 1 0]\n",
      " [0 1 0 1 0 1 0 1]\n",
      " [1 0 1 0 1 0 1 0]\n",
      " [0 1 0 1 0 1 0 1]\n",
      " [1 0 1 0 1 0 1 0]\n",
      " [0 1 0 1 0 1 0 1]]\n"
     ]
    }
   ],
   "source": [
    "arr = np.zeros((8, 8), dtype=int)\n",
    "arr[0::2, 0::2] = 1\n",
    "arr[1::2, 1::2] = 1\n",
    "print(arr)"
   ]
  },
  {
   "cell_type": "markdown",
   "id": "0243a0f6-1905-4e2d-9572-9ba49dc003a8",
   "metadata": {},
   "source": [
    "2. Каков результат выполнения следующих выражений?\n",
    "\n",
    "```python\n",
    "np.array(0) / np.array(0)\n",
    "np.array(0) // np.array(0)\n",
    "np.array([np.nan]).astype(int).astype(float)\n",
    "```"
   ]
  },
  {
   "cell_type": "code",
   "execution_count": 1709,
   "id": "ec6ae581-5adf-459c-bdc7-8b015d9529f6",
   "metadata": {},
   "outputs": [
    {
     "name": "stdout",
     "output_type": "stream",
     "text": [
      "nan\n",
      "0\n",
      "[-9.22337204e+18]\n"
     ]
    },
    {
     "name": "stderr",
     "output_type": "stream",
     "text": [
      "C:\\Users\\jack1\\AppData\\Local\\Temp\\ipykernel_25664\\3912170336.py:1: RuntimeWarning: invalid value encountered in divide\n",
      "  print(np.array(0) / np.array(0))\n",
      "C:\\Users\\jack1\\AppData\\Local\\Temp\\ipykernel_25664\\3912170336.py:2: RuntimeWarning: divide by zero encountered in floor_divide\n",
      "  print(np.array(0) // np.array(0))\n",
      "C:\\Users\\jack1\\AppData\\Local\\Temp\\ipykernel_25664\\3912170336.py:3: RuntimeWarning: invalid value encountered in cast\n",
      "  print(np.array([np.nan]).astype(int).astype(float))\n"
     ]
    }
   ],
   "source": [
    "print(np.array(0) / np.array(0))\n",
    "print(np.array(0) // np.array(0))\n",
    "print(np.array([np.nan]).astype(int).astype(float))"
   ]
  },
  {
   "cell_type": "markdown",
   "id": "8c7d3811-a555-4c02-ada8-e4a70b9dee46",
   "metadata": {},
   "source": [
    "3. Создайте матрицу-шахматную доску 8х8 используя функцию `tile`"
   ]
  },
  {
   "cell_type": "code",
   "execution_count": 1710,
   "id": "12d0ed34-908c-4840-8b81-457e64dd7b0b",
   "metadata": {},
   "outputs": [
    {
     "name": "stdout",
     "output_type": "stream",
     "text": [
      "[[1 0 1 0 1 0 1 0]\n",
      " [0 1 0 1 0 1 0 1]\n",
      " [1 0 1 0 1 0 1 0]\n",
      " [0 1 0 1 0 1 0 1]\n",
      " [1 0 1 0 1 0 1 0]\n",
      " [0 1 0 1 0 1 0 1]\n",
      " [1 0 1 0 1 0 1 0]\n",
      " [0 1 0 1 0 1 0 1]]\n"
     ]
    }
   ],
   "source": [
    "arr = np.array([[1, 0],[0, 1]])\n",
    "repetitions = (4, 4)\n",
    "print(np.tile(arr, repetitions))"
   ]
  },
  {
   "cell_type": "markdown",
   "id": "b7ca56e6-a194-4c42-b8a2-307fcf40f648",
   "metadata": {},
   "source": [
    "4. Как округлить до целых массив чисел с плавающей точкой?"
   ]
  },
  {
   "cell_type": "code",
   "execution_count": 1711,
   "id": "1b1d64cd-0e28-400f-8d49-a1274947e150",
   "metadata": {},
   "outputs": [
    {
     "name": "stdout",
     "output_type": "stream",
     "text": [
      "[1.2 2.4 3.6 4.8 5.1]\n",
      "[1. 2. 4. 5. 5.]\n"
     ]
    }
   ],
   "source": [
    "arr = np.array([1.2, 2.4, 3.6, 4.8, 5.1])\n",
    "print(arr)\n",
    "\n",
    "print(np.round(arr))"
   ]
  },
  {
   "cell_type": "markdown",
   "id": "b3b2cd1e-e996-45e0-b9ed-e12ce653a9c3",
   "metadata": {},
   "source": [
    "5. Как найти общие значения между двумя массивами?"
   ]
  },
  {
   "cell_type": "code",
   "execution_count": 1712,
   "id": "c40ef785-d750-42ba-ac6e-b777866202a6",
   "metadata": {},
   "outputs": [
    {
     "name": "stdout",
     "output_type": "stream",
     "text": [
      "[2 8]\n"
     ]
    }
   ],
   "source": [
    "arr1 = np.array([1, 2, 5, 7, 8]) \n",
    "arr2 = np.array([2, 3, 6, 8, 9, 10]) \n",
    "print(np.intersect1d(arr1, arr2))"
   ]
  },
  {
   "cell_type": "markdown",
   "id": "8108b3a8-5ba8-472d-ad6b-095ade8678ef",
   "metadata": {},
   "source": [
    "6. Как вычислить ((A+B)*(-A/2)) на месте (без копирования)?"
   ]
  },
  {
   "cell_type": "code",
   "execution_count": 1713,
   "id": "89b58c0a-bd5d-435a-be45-719fdfce662a",
   "metadata": {},
   "outputs": [
    {
     "name": "stdout",
     "output_type": "stream",
     "text": [
      "-20.0\n"
     ]
    }
   ],
   "source": [
    "import operator\n",
    "a, b = 4, 6\n",
    "print(operator.imul(operator.iadd(a, b), operator.itruediv(-a, 2)))"
   ]
  },
  {
   "cell_type": "markdown",
   "id": "98511652-db85-4506-a5b8-f94b05d35ce9",
   "metadata": {},
   "source": [
    "7. Рассмотрим случайный вектор с формой 100х2, представляющей координаты, и найдем расстояния от точки к точке"
   ]
  },
  {
   "cell_type": "code",
   "execution_count": 1714,
   "id": "ca72cdb0-ed24-460d-81a9-220b850d62c3",
   "metadata": {},
   "outputs": [
    {
     "name": "stdout",
     "output_type": "stream",
     "text": [
      "[0.18972699 0.24511679 0.44693423 0.72623213 0.81217929 0.33351936\n",
      " 0.72447802 0.95429022 0.65343566 0.29549638 0.69235017 0.29843525\n",
      " 0.81640133 0.91466554 0.95874623 0.47202288 0.42105638 0.20400661\n",
      " 0.73750884 0.54094912 0.28340943 0.42502512 0.53873641 0.58091232\n",
      " 0.7280096  0.03098882 0.73596903 0.27666596 0.46702382 0.3177794\n",
      " 0.27742168 0.51280504 1.04401351 0.13858838 0.72906855 0.42804014\n",
      " 0.44876127 0.26711615 0.13940729 0.58561903 0.47751595 0.4919428\n",
      " 0.44927189 0.36896833 0.73680778 0.93592206 0.53114432 0.43040334\n",
      " 0.39383185 0.4447878  0.18327625 0.40329799 0.43553039 0.51387604\n",
      " 0.58841832 0.56308839 0.84651751 0.64040124 0.22434227 0.47625973\n",
      " 0.35861499 0.416956   0.90889212 0.77705471 0.33382751 0.76656009\n",
      " 0.46973911 0.40929015 0.0702012  0.42617814 0.47226996 0.15451909\n",
      " 0.42553798 0.80825247 0.96602961 0.307502   0.76905728 0.34132169\n",
      " 0.94093973 0.88143726 0.34507516 0.14860543 0.52104351 0.50011733\n",
      " 0.56492854 0.23360365 0.91440913 0.2633757  0.80974956 0.98401923\n",
      " 0.56358346 0.58136942 0.75210617 0.62739203 0.54501783 0.7042894\n",
      " 0.58804039 0.38640154 0.2394316 ]\n"
     ]
    }
   ],
   "source": [
    "arr = np.random.rand(100, 2)\n",
    "distance = np.sqrt(np.sum(np.diff(arr, axis=0)**2, axis=1))\n",
    "print(distance)"
   ]
  },
  {
   "cell_type": "markdown",
   "id": "1412a70a-2a1e-406e-a227-afc9a47ed659",
   "metadata": {},
   "source": [
    "8. Как конвертировать массив float(32 bit) к массиву целых чисел (integer 32 bit) in place?"
   ]
  },
  {
   "cell_type": "code",
   "execution_count": 1715,
   "id": "22bb8bbf-52dd-4d3c-86c0-c4e9637b909b",
   "metadata": {},
   "outputs": [
    {
     "name": "stdout",
     "output_type": "stream",
     "text": [
      "[1.1 2.2 3.3 4.4 5.5]\n",
      "[1 2 3 4 5]\n"
     ]
    }
   ],
   "source": [
    "arr = np.array([1.1, 2.2, 3.3, 4.4, 5.5], dtype=np.float32)\n",
    "print(arr)\n",
    "print(arr.astype(np.int32))"
   ]
  },
  {
   "cell_type": "markdown",
   "id": "f7dc66bf-f7c8-4d78-834b-451651f6839a",
   "metadata": {},
   "source": [
    "9. Создайте структурированный массив, представляющий позицию (x, y) и цвет (r, g, b)."
   ]
  },
  {
   "cell_type": "code",
   "execution_count": 1716,
   "id": "0ecf5586-d30e-4256-ab93-7ff9bab0b34b",
   "metadata": {},
   "outputs": [
    {
     "name": "stdout",
     "output_type": "stream",
     "text": [
      "[( 1,  1, 255, 255, 255) (42, 42, 255,   0,   0) ( 4, 89,   0,   0,   0)]\n"
     ]
    }
   ],
   "source": [
    "arr_type = np.dtype([('x', np.int32), ('y', np.int32), ('r', np.uint8), ('g', np.uint8), ('b', np.uint8)])\n",
    "arr = np.array([(1, 1, 255, 255, 255), (42, 42, 255, 0, 0), (4, 89, 0, 0, 0)], dtype=arr_type)\n",
    "print(arr)"
   ]
  },
  {
   "cell_type": "markdown",
   "id": "a66194f1-0099-4808-8ebf-5cf10eee5071",
   "metadata": {},
   "source": [
    "10. Какой эквивалент enumerate для numpy массивов?"
   ]
  },
  {
   "cell_type": "code",
   "execution_count": 1717,
   "id": "07ed452c-3f7c-40a7-a5b5-716602a5eed9",
   "metadata": {},
   "outputs": [
    {
     "name": "stdout",
     "output_type": "stream",
     "text": [
      "(0, 0) 1\n",
      "(0, 1) 2\n",
      "(0, 2) 8\n",
      "(1, 0) 1\n",
      "(1, 1) 2\n",
      "(1, 2) 3\n"
     ]
    }
   ],
   "source": [
    "arr = np.array([[1, 2, 8],[1, 2, 3]]) \n",
    "for ind, val in np.ndenumerate(arr):\n",
    "    print(ind, val)\n",
    "\n"
   ]
  },
  {
   "cell_type": "markdown",
   "id": "5bd0f757-bb01-4afb-b4f0-6821b5c5b2b7",
   "metadata": {},
   "source": [
    "### 2. Pandas"
   ]
  },
  {
   "cell_type": "markdown",
   "id": "bdffd013-e573-4318-8062-65ae1c5e07e8",
   "metadata": {},
   "source": [
    "Найдите ответы на вопросы или выполните действия с предложенным датасетом \n",
    "\n",
    "Данные о преступлениях, совершенных женщинами в Индии, с демографическими подробностями.\n",
    "\n",
    "Файл: `CrimesOnWomenData.csv`\n",
    "\n",
    "```\n",
    "State - название штата/региона\n",
    "Year - год записи\n",
    "Rape - случаи изнасилования\n",
    "K&A - случаи похищения \n",
    "DD - смерти из-за приданого\n",
    "AoW - нападение на женщин\n",
    "AoM - нападение на женскую скромность(modestity)\n",
    "DV - бытовое насилие\n",
    "WT - торговля женщинами\n",
    "```"
   ]
  },
  {
   "cell_type": "code",
   "execution_count": 1718,
   "id": "0778ec2b-a7b2-4738-b771-bb1781986f62",
   "metadata": {},
   "outputs": [],
   "source": [
    "import pandas as pd"
   ]
  },
  {
   "cell_type": "code",
   "execution_count": 1719,
   "id": "bfc45614-d44b-49bd-a55c-c410a95a808f",
   "metadata": {},
   "outputs": [
    {
     "data": {
      "text/html": [
       "<div>\n",
       "<style scoped>\n",
       "    .dataframe tbody tr th:only-of-type {\n",
       "        vertical-align: middle;\n",
       "    }\n",
       "\n",
       "    .dataframe tbody tr th {\n",
       "        vertical-align: top;\n",
       "    }\n",
       "\n",
       "    .dataframe thead th {\n",
       "        text-align: right;\n",
       "    }\n",
       "</style>\n",
       "<table border=\"1\" class=\"dataframe\">\n",
       "  <thead>\n",
       "    <tr style=\"text-align: right;\">\n",
       "      <th></th>\n",
       "      <th>Unnamed: 0</th>\n",
       "      <th>State</th>\n",
       "      <th>Year</th>\n",
       "      <th>Rape</th>\n",
       "      <th>K&amp;A</th>\n",
       "      <th>DD</th>\n",
       "      <th>AoW</th>\n",
       "      <th>AoM</th>\n",
       "      <th>DV</th>\n",
       "      <th>WT</th>\n",
       "    </tr>\n",
       "  </thead>\n",
       "  <tbody>\n",
       "    <tr>\n",
       "      <th>0</th>\n",
       "      <td>0</td>\n",
       "      <td>ANDHRA PRADESH</td>\n",
       "      <td>2001</td>\n",
       "      <td>871</td>\n",
       "      <td>765</td>\n",
       "      <td>420</td>\n",
       "      <td>3544</td>\n",
       "      <td>2271</td>\n",
       "      <td>5791</td>\n",
       "      <td>7</td>\n",
       "    </tr>\n",
       "    <tr>\n",
       "      <th>1</th>\n",
       "      <td>1</td>\n",
       "      <td>ARUNACHAL PRADESH</td>\n",
       "      <td>2001</td>\n",
       "      <td>33</td>\n",
       "      <td>55</td>\n",
       "      <td>0</td>\n",
       "      <td>78</td>\n",
       "      <td>3</td>\n",
       "      <td>11</td>\n",
       "      <td>0</td>\n",
       "    </tr>\n",
       "    <tr>\n",
       "      <th>2</th>\n",
       "      <td>2</td>\n",
       "      <td>ASSAM</td>\n",
       "      <td>2001</td>\n",
       "      <td>817</td>\n",
       "      <td>1070</td>\n",
       "      <td>59</td>\n",
       "      <td>850</td>\n",
       "      <td>4</td>\n",
       "      <td>1248</td>\n",
       "      <td>0</td>\n",
       "    </tr>\n",
       "    <tr>\n",
       "      <th>3</th>\n",
       "      <td>3</td>\n",
       "      <td>BIHAR</td>\n",
       "      <td>2001</td>\n",
       "      <td>888</td>\n",
       "      <td>518</td>\n",
       "      <td>859</td>\n",
       "      <td>562</td>\n",
       "      <td>21</td>\n",
       "      <td>1558</td>\n",
       "      <td>83</td>\n",
       "    </tr>\n",
       "    <tr>\n",
       "      <th>4</th>\n",
       "      <td>4</td>\n",
       "      <td>CHHATTISGARH</td>\n",
       "      <td>2001</td>\n",
       "      <td>959</td>\n",
       "      <td>171</td>\n",
       "      <td>70</td>\n",
       "      <td>1763</td>\n",
       "      <td>161</td>\n",
       "      <td>840</td>\n",
       "      <td>0</td>\n",
       "    </tr>\n",
       "  </tbody>\n",
       "</table>\n",
       "</div>"
      ],
      "text/plain": [
       "   Unnamed: 0              State  Year  Rape   K&A   DD   AoW   AoM    DV  WT\n",
       "0           0     ANDHRA PRADESH  2001   871   765  420  3544  2271  5791   7\n",
       "1           1  ARUNACHAL PRADESH  2001    33    55    0    78     3    11   0\n",
       "2           2              ASSAM  2001   817  1070   59   850     4  1248   0\n",
       "3           3              BIHAR  2001   888   518  859   562    21  1558  83\n",
       "4           4       CHHATTISGARH  2001   959   171   70  1763   161   840   0"
      ]
     },
     "execution_count": 1719,
     "metadata": {},
     "output_type": "execute_result"
    }
   ],
   "source": [
    "# Load dataset here\n",
    "DATA_PATH = \"csvs/CrimesOnWomenData.csv\"\n",
    "\n",
    "df = pd.read_csv(DATA_PATH)\n",
    "df.head()"
   ]
  },
  {
   "cell_type": "markdown",
   "id": "1026e8c6-513a-41e3-b2f4-68aae18b8435",
   "metadata": {},
   "source": [
    "1. За какие года представлен набор данных?"
   ]
  },
  {
   "cell_type": "code",
   "execution_count": 1720,
   "id": "e74655aa-b97c-42e5-b972-e0753ddc2331",
   "metadata": {},
   "outputs": [
    {
     "name": "stdout",
     "output_type": "stream",
     "text": [
      "[2001 2002 2003 2004 2005 2006 2007 2008 2009 2010 2011 2012 2013 2014\n",
      " 2015 2016 2017 2018 2019 2020 2021]\n"
     ]
    }
   ],
   "source": [
    "print(df['Year'].unique())"
   ]
  },
  {
   "cell_type": "markdown",
   "id": "eee028a5-9311-4a4f-b4ac-1fb75acfb4b3",
   "metadata": {},
   "source": [
    "2. Выявите район с самым высоким количеством убийств женщин"
   ]
  },
  {
   "cell_type": "code",
   "execution_count": 1721,
   "id": "ac0fb641-96d2-4e7c-88d5-636ce3b699d2",
   "metadata": {},
   "outputs": [
    {
     "name": "stdout",
     "output_type": "stream",
     "text": [
      "UTTAR PRADESH 40615\n"
     ]
    }
   ],
   "source": [
    "# в csv файле имеются записи для одних и тех же районов с разнымы регистрами - приводим записи к единому формату\n",
    "df['State'] = df['State'].str.upper() \n",
    "df_group = df.groupby(['State'])['DD'].sum()\n",
    "region = df_group.idxmax()\n",
    "\n",
    "print(region, df_group.max())"
   ]
  },
  {
   "cell_type": "markdown",
   "id": "cd7979ba-2fa8-4fd3-986d-26cee122da1f",
   "metadata": {},
   "source": [
    "3. Какое среднее число изнасилований женщин в индии наблюдалось в указанные года?"
   ]
  },
  {
   "cell_type": "code",
   "execution_count": 1722,
   "id": "3915f77b-116c-482b-8644-2f5f11931af9",
   "metadata": {},
   "outputs": [
    {
     "name": "stdout",
     "output_type": "stream",
     "text": [
      "727.8559782608696\n"
     ]
    }
   ],
   "source": [
    "print(df['Rape'].mean())"
   ]
  },
  {
   "cell_type": "markdown",
   "id": "1b69ba67-61a8-4765-9795-cfab1a09e929",
   "metadata": {},
   "source": [
    "4. Выявите район с минимальным числом похищений за период 2001-2003 года"
   ]
  },
  {
   "cell_type": "code",
   "execution_count": 1723,
   "id": "1228d2e9-fc56-4240-95c6-c98a8b84c016",
   "metadata": {},
   "outputs": [
    {
     "name": "stdout",
     "output_type": "stream",
     "text": [
      "LAKSHADWEEP 0\n"
     ]
    }
   ],
   "source": [
    "df_years = df[( 2001 <= df['Year']) & (df['Year'] <= 2003)]\n",
    "df_group = df_years.groupby(['State'])['K&A'].sum()\n",
    "region = df_group.idxmin()\n",
    "print(region, df_group.min())"
   ]
  },
  {
   "cell_type": "markdown",
   "id": "5acec4fd-f740-49a8-a5d8-562d358239c9",
   "metadata": {},
   "source": [
    "5. Перечислите районы в которых наблюдались наиболее частые случае домашнего насилия за период с 2005 по 2012 года"
   ]
  },
  {
   "cell_type": "code",
   "execution_count": 1724,
   "id": "cac8daef-f4e8-4c8b-b7f4-d41a6adf35ed",
   "metadata": {},
   "outputs": [
    {
     "data": {
      "text/plain": [
       "State\n",
       "WEST BENGAL       111458\n",
       "ANDHRA PRADESH     89643\n",
       "RAJASTHAN          76364\n",
       "MAHARASHTRA        57822\n",
       "UTTAR PRADESH      56997\n",
       "Name: DV, dtype: int64"
      ]
     },
     "execution_count": 1724,
     "metadata": {},
     "output_type": "execute_result"
    }
   ],
   "source": [
    "df_years = df[( 2005 <= df['Year']) & (df['Year'] <= 2012)]\n",
    "df_group = df_years.groupby(['State'])['DV'].sum()\n",
    "df_group.sort_values(ascending=False).head()\n"
   ]
  },
  {
   "cell_type": "markdown",
   "id": "8d6171a9-0f75-4f3e-ac54-95d03d1f70b6",
   "metadata": {},
   "source": [
    "6. Выведите названия районов в порядке не возрастания случаев торговли женщинами за 2020 год"
   ]
  },
  {
   "cell_type": "code",
   "execution_count": 1725,
   "id": "c64d0892-2fb8-4304-966c-5cbb32b03c0a",
   "metadata": {},
   "outputs": [
    {
     "data": {
      "text/plain": [
       "State\n",
       "SIKKIM               231\n",
       "JHARKHAND            159\n",
       "MADHYA PRADESH        85\n",
       "PUNJAB                67\n",
       "UTTARAKHAND           52\n",
       "ANDHRA PRADESH        48\n",
       "GUJARAT               47\n",
       "BIHAR                 30\n",
       "HARYANA               28\n",
       "TRIPURA               25\n",
       "NAGALAND              19\n",
       "ASSAM                 18\n",
       "KERALA                14\n",
       "TAMIL NADU            13\n",
       "ODISHA                11\n",
       "UTTAR PRADESH          8\n",
       "KARNATAKA              5\n",
       "D&N HAVELI             3\n",
       "CHHATTISGARH           3\n",
       "JAMMU & KASHMIR        2\n",
       "ARUNACHAL PRADESH      0\n",
       "A & N ISLANDS          0\n",
       "LAKSHADWEEP            0\n",
       "HIMACHAL PRADESH       0\n",
       "CHANDIGARH             0\n",
       "DAMAN & DIU            0\n",
       "DELHI UT               0\n",
       "GOA                    0\n",
       "PUDUCHERRY             0\n",
       "MANIPUR                0\n",
       "MEGHALAYA              0\n",
       "MIZORAM                0\n",
       "MAHARASHTRA            0\n",
       "RAJASTHAN              0\n",
       "TELANGANA              0\n",
       "WEST BENGAL            0\n",
       "Name: WT, dtype: int64"
      ]
     },
     "execution_count": 1725,
     "metadata": {},
     "output_type": "execute_result"
    }
   ],
   "source": [
    "df_years = df[df['Year'] == 2020]\n",
    "df_group = df_years.groupby(['State'])['WT'].sum()\n",
    "df_group.sort_values(ascending=False)"
   ]
  },
  {
   "cell_type": "markdown",
   "id": "a24c2f59-eeaf-47fd-8224-1023d1a8edeb",
   "metadata": {},
   "source": [
    "Перейдем к следующему набору данных.\n",
    "\n",
    "Файл: `CustomerPurchasingBehaviors.csv`\n",
    "\n",
    "Этот набор данных содержит информацию о профилях клиентов и их покупательском поведении. Данные содержат столбцы, содержащие идентификатор пользователя, возраст, годовой доход, сумму покупки, показатель лояльности (в разбивке по классам), регион и частоту покупок. Он предназначен для анализа тенденций сегментации клиентов и лояльности и может быть использован для различных задач машинного обучения и анализа данных, связанных с поведением клиентов и исследованиями рынка.\n",
    "\n",
    "```\n",
    "user_id - ID клиента\n",
    "age - Возраст\n",
    "annual_income - Годовой доход клиента (в долларах США).\n",
    "purchase_amount - Общая сумма покупок, совершенных клиентом (в долларах США).\n",
    "loyalty_score - Показатель лояльности клиента (значение от 0 до 100).\n",
    "region - Регион, в котором проживает клиент (Север, Юг, Восток, Запад).\n",
    "purchase_frequency - Частота покупок клиентов (количество раз в год).\n",
    "```"
   ]
  },
  {
   "cell_type": "code",
   "execution_count": 1726,
   "id": "7407fc92-f656-44b4-bc3a-b86d0a8664ea",
   "metadata": {},
   "outputs": [
    {
     "data": {
      "text/html": [
       "<div>\n",
       "<style scoped>\n",
       "    .dataframe tbody tr th:only-of-type {\n",
       "        vertical-align: middle;\n",
       "    }\n",
       "\n",
       "    .dataframe tbody tr th {\n",
       "        vertical-align: top;\n",
       "    }\n",
       "\n",
       "    .dataframe thead th {\n",
       "        text-align: right;\n",
       "    }\n",
       "</style>\n",
       "<table border=\"1\" class=\"dataframe\">\n",
       "  <thead>\n",
       "    <tr style=\"text-align: right;\">\n",
       "      <th></th>\n",
       "      <th>user_id</th>\n",
       "      <th>age</th>\n",
       "      <th>annual_income</th>\n",
       "      <th>purchase_amount</th>\n",
       "      <th>loyalty_score</th>\n",
       "      <th>region</th>\n",
       "      <th>purchase_frequency</th>\n",
       "    </tr>\n",
       "  </thead>\n",
       "  <tbody>\n",
       "    <tr>\n",
       "      <th>0</th>\n",
       "      <td>1</td>\n",
       "      <td>25</td>\n",
       "      <td>45000</td>\n",
       "      <td>200</td>\n",
       "      <td>4.5</td>\n",
       "      <td>North</td>\n",
       "      <td>12</td>\n",
       "    </tr>\n",
       "    <tr>\n",
       "      <th>1</th>\n",
       "      <td>2</td>\n",
       "      <td>34</td>\n",
       "      <td>55000</td>\n",
       "      <td>350</td>\n",
       "      <td>7.0</td>\n",
       "      <td>South</td>\n",
       "      <td>18</td>\n",
       "    </tr>\n",
       "    <tr>\n",
       "      <th>2</th>\n",
       "      <td>3</td>\n",
       "      <td>45</td>\n",
       "      <td>65000</td>\n",
       "      <td>500</td>\n",
       "      <td>8.0</td>\n",
       "      <td>West</td>\n",
       "      <td>22</td>\n",
       "    </tr>\n",
       "    <tr>\n",
       "      <th>3</th>\n",
       "      <td>4</td>\n",
       "      <td>22</td>\n",
       "      <td>30000</td>\n",
       "      <td>150</td>\n",
       "      <td>3.0</td>\n",
       "      <td>East</td>\n",
       "      <td>10</td>\n",
       "    </tr>\n",
       "    <tr>\n",
       "      <th>4</th>\n",
       "      <td>5</td>\n",
       "      <td>29</td>\n",
       "      <td>47000</td>\n",
       "      <td>220</td>\n",
       "      <td>4.8</td>\n",
       "      <td>North</td>\n",
       "      <td>13</td>\n",
       "    </tr>\n",
       "  </tbody>\n",
       "</table>\n",
       "</div>"
      ],
      "text/plain": [
       "   user_id  age  annual_income  purchase_amount  loyalty_score region  \\\n",
       "0        1   25          45000              200            4.5  North   \n",
       "1        2   34          55000              350            7.0  South   \n",
       "2        3   45          65000              500            8.0   West   \n",
       "3        4   22          30000              150            3.0   East   \n",
       "4        5   29          47000              220            4.8  North   \n",
       "\n",
       "   purchase_frequency  \n",
       "0                  12  \n",
       "1                  18  \n",
       "2                  22  \n",
       "3                  10  \n",
       "4                  13  "
      ]
     },
     "execution_count": 1726,
     "metadata": {},
     "output_type": "execute_result"
    }
   ],
   "source": [
    "# Load dataset here\n",
    "DATA_PATH = \"csvs/CustomerPurchasingBehaviors.csv\"\n",
    "\n",
    "df = pd.read_csv(DATA_PATH)\n",
    "df.head()"
   ]
  },
  {
   "cell_type": "markdown",
   "id": "1d447d6e-cfde-411c-9078-cd8f41f02d8b",
   "metadata": {},
   "source": [
    "8. Какой средний годовой доход у клиентов с уровнем лояльности больше 50 живущих на севере"
   ]
  },
  {
   "cell_type": "code",
   "execution_count": 1727,
   "id": "b30df6b1-5eca-43da-a115-1c1a3cbfd899",
   "metadata": {},
   "outputs": [
    {
     "name": "stdout",
     "output_type": "stream",
     "text": [
      "60146.34146341463\n"
     ]
    }
   ],
   "source": [
    "# в csv файле находятся записи со значениями loyalty_score в диапазоне от 0 от 10 - корректируем фильтр из задания\n",
    "df_filter = df[(df['loyalty_score'] > 5) & (df['region'] == \"North\")]\n",
    "print(df_filter['annual_income'].mean())"
   ]
  },
  {
   "cell_type": "markdown",
   "id": "c41d5d99-65f7-4d17-82ae-971ec959f327",
   "metadata": {},
   "source": [
    "9. Выведите 25 и 75 перцентили уровня лоальности клиентов живущих на западе с частотой покупок более 20 раз в год"
   ]
  },
  {
   "cell_type": "code",
   "execution_count": 1728,
   "id": "275bcc04-659b-4521-a9e5-200a5f4ef674",
   "metadata": {},
   "outputs": [
    {
     "name": "stdout",
     "output_type": "stream",
     "text": [
      "8.5 9.2\n"
     ]
    }
   ],
   "source": [
    "df_filter = df[(df['purchase_frequency'] > 20) & (df['region'] == \"West\")]\n",
    "\n",
    "per_25 = df_filter['loyalty_score'].quantile(0.25)\n",
    "per_75 = df_filter['loyalty_score'].quantile(0.75)\n",
    "\n",
    "print(per_25, per_75)"
   ]
  },
  {
   "cell_type": "markdown",
   "id": "a1f7a5c0-259c-4837-a5d1-2dfc05e7c13e",
   "metadata": {},
   "source": [
    "10. Отличается ли медианный возраст клиентов с уровнем лояльности более 70 и менее 10 для жителей Востока и Севера."
   ]
  },
  {
   "cell_type": "code",
   "execution_count": 1729,
   "id": "a2da4d57-edb4-4179-8bee-3deda6cd00e6",
   "metadata": {},
   "outputs": [
    {
     "name": "stdout",
     "output_type": "stream",
     "text": [
      "46.0 nan\n"
     ]
    }
   ],
   "source": [
    "df_filter = df[(df['region'] == \"East\") | (df['region'] == \"North\")]\n",
    "\n",
    "client_70 = df_filter[df_filter['loyalty_score'] > 7]\n",
    "client_10 = df_filter[df_filter['loyalty_score'] < 1]\n",
    "\n",
    "print(client_70['age'].median(), client_10['age'].median())\n"
   ]
  },
  {
   "cell_type": "markdown",
   "id": "deb4ca3a-3d8a-4205-bee9-d26fd28638b2",
   "metadata": {},
   "source": [
    "### 3. Визуализация"
   ]
  },
  {
   "cell_type": "markdown",
   "id": "f8941ce1-cbf2-465a-b013-1b84aeb999ef",
   "metadata": {},
   "source": [
    "Используя библиотеки matplotlib/sns/plotly/pandas и набор данных представленный ранее визуализируйте"
   ]
  },
  {
   "cell_type": "code",
   "execution_count": 1730,
   "id": "c1ce44f6",
   "metadata": {},
   "outputs": [],
   "source": [
    "import matplotlib.pyplot as plt\n",
    "import seaborn as sns"
   ]
  },
  {
   "cell_type": "markdown",
   "id": "5e98ce6f-8d02-4120-ad85-241494c038d6",
   "metadata": {},
   "source": [
    "1. Постройте диаграмму которая отражает средний уровень лояльности во всех регионах"
   ]
  },
  {
   "cell_type": "code",
   "execution_count": 1731,
   "id": "664666b2-17b7-49dd-a3bd-c4be9361755d",
   "metadata": {},
   "outputs": [
    {
     "data": {
      "image/png": "[encoded data removed]",
      "text/plain": [
       "<Figure size 640x480 with 1 Axes>"
      ]
     },
     "metadata": {},
     "output_type": "display_data"
    }
   ],
   "source": [
    "loyal = df.groupby(['region'])['loyalty_score'].mean()\n",
    "loyal = loyal.reset_index()\n",
    "\n",
    "plt.bar(loyal['region'], loyal['loyalty_score'])\n",
    "plt.show()"
   ]
  },
  {
   "cell_type": "markdown",
   "id": "4c7500bb-36ca-4ea7-bc3c-4f15afbd4c41",
   "metadata": {},
   "source": [
    "2. Постройте гистограмму распределения зарплат клиентов на Севере."
   ]
  },
  {
   "cell_type": "code",
   "execution_count": 1732,
   "id": "7325e7f8-5f00-4a82-8184-7064505f7ccd",
   "metadata": {},
   "outputs": [
    {
     "data": {
      "image/png": "[encoded data removed]",
      "text/plain": [
       "<Figure size 640x480 with 1 Axes>"
      ]
     },
     "metadata": {},
     "output_type": "display_data"
    }
   ],
   "source": [
    "north_region = df[(df['region'] == \"North\")]['annual_income']\n",
    "plt.hist(north_region, bins=15)\n",
    "plt.show()"
   ]
  },
  {
   "cell_type": "markdown",
   "id": "efdd0669-36e0-4708-ac6b-ad0d92881113",
   "metadata": {},
   "source": [
    "3. Сравните уровни зарплат людей на севере и юге."
   ]
  },
  {
   "cell_type": "code",
   "execution_count": 1733,
   "id": "7504a170-04a1-4b86-924d-8d46be16fd3c",
   "metadata": {},
   "outputs": [
    {
     "data": {
      "image/png": "[encoded data removed]",
      "text/plain": [
       "<Figure size 640x480 with 1 Axes>"
      ]
     },
     "metadata": {},
     "output_type": "display_data"
    }
   ],
   "source": [
    "df = df[((df['region'] == 'North') | (df['region'] == 'South'))]\n",
    "\n",
    "df_group = df.groupby(['region'])['annual_income'].mean()\n",
    "df_group = df_group.reset_index()\n",
    "\n",
    "plt.bar(df_group['region'], df_group['annual_income'])\n",
    "plt.show()\n"
   ]
  },
  {
   "cell_type": "markdown",
   "id": "b5839a48-e992-45fc-81ee-59cb5aa79dda",
   "metadata": {},
   "source": [
    "4. Постройте box plot отображающий распределение уровня лояльности для людей до 20 лет, от 20 до 40, от 40 до 60 и старше 60 лет"
   ]
  },
  {
   "cell_type": "code",
   "execution_count": 1734,
   "id": "1a942378-45ea-47a0-bac9-488960491613",
   "metadata": {},
   "outputs": [
    {
     "data": {
      "image/png": "[encoded data removed]",
      "text/plain": [
       "<Figure size 640x480 with 1 Axes>"
      ]
     },
     "metadata": {},
     "output_type": "display_data"
    }
   ],
   "source": [
    "def condition(x):\n",
    "    if x <= 20:\n",
    "        return '<20'\n",
    "    elif (x > 20) & (x <= 40):\n",
    "        return '20<40'\n",
    "    elif (x > 40) & (x <= 60):\n",
    "        return '40<60'\n",
    "    else:\n",
    "        return '60<'\n",
    "    \n",
    "df['age_group'] = df['age'].apply(condition)\n",
    "\n",
    "sns.boxplot(x='age_group', y='loyalty_score', data=df[df['age_group'] == '<20'])\n",
    "sns.boxplot(x='age_group', y='loyalty_score', data=df[df['age_group'] == '20<40'])\n",
    "sns.boxplot(x='age_group', y='loyalty_score', data=df[df['age_group'] == '40<60'])\n",
    "sns.boxplot(x='age_group', y='loyalty_score', data=df[df['age_group'] == '60<'])\n",
    "\n",
    "plt.show()"
   ]
  },
  {
   "cell_type": "markdown",
   "id": "d4c97bef-bb64-43cc-a89f-7510174492ec",
   "metadata": {},
   "source": [
    "5. Визуализируйте зависимость частоты покупок от заработка"
   ]
  },
  {
   "cell_type": "code",
   "execution_count": 1735,
   "id": "a1f444af-3544-432c-8dc6-bb74d4cff272",
   "metadata": {},
   "outputs": [
    {
     "data": {
      "text/plain": [
       "<Axes: xlabel='annual_income', ylabel='purchase_frequency'>"
      ]
     },
     "execution_count": 1735,
     "metadata": {},
     "output_type": "execute_result"
    },
    {
     "data": {
      "image/png": "[encoded data removed]",
      "text/plain": [
       "<Figure size 640x480 with 1 Axes>"
      ]
     },
     "metadata": {},
     "output_type": "display_data"
    }
   ],
   "source": [
    "sns.scatterplot(x='annual_income', y='purchase_frequency', data=df)\n",
    "sns.regplot(x='annual_income', y='purchase_frequency', data=df, scatter=False, color='r')"
   ]
  },
  {
   "cell_type": "markdown",
   "id": "a2ab764c-8ac1-4c5a-93ad-8168b0eb4934",
   "metadata": {},
   "source": [
    "6. Визуализируйте как зависит сумма покупок от зарплаты клиента"
   ]
  },
  {
   "cell_type": "code",
   "execution_count": 1736,
   "id": "6449e306-fb6c-46d4-bcd8-b6b76fbf69d2",
   "metadata": {},
   "outputs": [
    {
     "data": {
      "text/plain": [
       "<Axes: xlabel='annual_income', ylabel='purchase_amount'>"
      ]
     },
     "execution_count": 1736,
     "metadata": {},
     "output_type": "execute_result"
    },
    {
     "data": {
      "image/png": "[encoded data removed]",
      "text/plain": [
       "<Figure size 640x480 with 1 Axes>"
      ]
     },
     "metadata": {},
     "output_type": "display_data"
    }
   ],
   "source": [
    "sns.scatterplot(x='annual_income', y='purchase_amount', data=df)\n",
    "sns.regplot(x='annual_income', y='purchase_amount', data=df, scatter=False, color='r')"
   ]
  },
  {
   "cell_type": "markdown",
   "id": "16afdeec-8c90-4ed1-a599-e0b1343bbf5c",
   "metadata": {},
   "source": [
    "7. Придумайте как визуализировать зависимость между частотой покупок, суммой покупок и скором лояльности *\n",
    "\n",
    "\\* Задание на доп. балл"
   ]
  },
  {
   "cell_type": "code",
   "execution_count": 1737,
   "id": "e10d0cc7-a1ca-4204-a875-b1660e44618d",
   "metadata": {},
   "outputs": [
    {
     "data": {
      "image/png": "[encoded data removed]",
      "text/plain": [
       "<Figure size 640x480 with 1 Axes>"
      ]
     },
     "metadata": {},
     "output_type": "display_data"
    }
   ],
   "source": [
    "from mpl_toolkits.mplot3d import Axes3D\n",
    "\n",
    "x = df['purchase_frequency']\n",
    "y = df['purchase_amount']\n",
    "z = df['loyalty_score']\n",
    "\n",
    "fig = plt.figure()\n",
    "ax = fig.add_subplot(111, projection='3d')\n",
    "\n",
    "ax.scatter(x, y, z, c='r', marker='o')\n",
    "\n",
    "ax.set_xlabel('purchase_frequency')\n",
    "ax.set_ylabel('purchase_amount')\n",
    "ax.set_zlabel('loyalty_score')\n",
    "\n",
    "ax.view_init(20, 260)\n",
    "plt.show()\n"
   ]
  }
 ],
 "metadata": {
  "kernelspec": {
   "display_name": "Python 3 (ipykernel)",
   "language": "python",
   "name": "python3"
  },
  "language_info": {
   "codemirror_mode": {
    "name": "ipython",
    "version": 3
   },
   "file_extension": ".py",
   "mimetype": "text/x-python",
   "name": "python",
   "nbconvert_exporter": "python",
   "pygments_lexer": "ipython3",
   "version": "3.12.6"
  }
 },
 "nbformat": 4,
 "nbformat_minor": 5
}
